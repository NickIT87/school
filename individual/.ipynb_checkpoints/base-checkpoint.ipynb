{
 "cells": [
  {
   "cell_type": "code",
   "execution_count": 2,
   "id": "96a83abc-6585-448c-9fb6-00c787b68547",
   "metadata": {},
   "outputs": [
    {
     "data": {
      "text/plain": [
       "int"
      ]
     },
     "execution_count": 2,
     "metadata": {},
     "output_type": "execute_result"
    }
   ],
   "source": [
    "mark: int = 12\n",
    "type(mark)"
   ]
  },
  {
   "cell_type": "code",
   "execution_count": 5,
   "id": "70e28c18-80fe-42c5-b564-25ff7d3c54d5",
   "metadata": {},
   "outputs": [
    {
     "data": {
      "text/plain": [
       "12"
      ]
     },
     "execution_count": 5,
     "metadata": {},
     "output_type": "execute_result"
    }
   ],
   "source": [
    "a = [1, 2, 34]\n",
    "a[0] = 12\n",
    "a[0]"
   ]
  },
  {
   "cell_type": "code",
   "execution_count": 10,
   "id": "237c603b-d134-4fc6-8868-65f7317e5a01",
   "metadata": {},
   "outputs": [
    {
     "name": "stdout",
     "output_type": "stream",
     "text": [
      "1 2 4\n"
     ]
    },
    {
     "data": {
      "text/plain": [
       "0"
      ]
     },
     "execution_count": 10,
     "metadata": {},
     "output_type": "execute_result"
    }
   ],
   "source": [
    "def test(a, b, c = 12) -> int:\n",
    "    print(a, b, c)\n",
    "    return 0\n",
    "    \n",
    "test(1, 2, 4)"
   ]
  },
  {
   "cell_type": "code",
   "execution_count": null,
   "id": "5dab33e1-5c12-47e2-b4cb-82ddc15882cd",
   "metadata": {},
   "outputs": [],
   "source": [
    "# ООП \n",
    "\n",
    "# инкапсуляция\n",
    "# наследование \n",
    "# полиморфизм"
   ]
  },
  {
   "cell_type": "code",
   "execution_count": 33,
   "id": "461e6782-26ad-4a03-a8d5-c2779fdfeb6e",
   "metadata": {},
   "outputs": [
    {
     "data": {
      "text/plain": [
       "'heir view'"
      ]
     },
     "execution_count": 33,
     "metadata": {},
     "output_type": "execute_result"
    }
   ],
   "source": [
    "class Parent:\n",
    "    __data = \"password\"\n",
    "    \n",
    "    def test(self):\n",
    "        return self.__data\n",
    "    \n",
    "    def view(self, a: int) -> int:\n",
    "        return a\n",
    "    \n",
    "    def view(self, a: str) -> str:\n",
    "        return a\n",
    "    \n",
    "    \n",
    "class Heir(Parent):\n",
    "    \n",
    "    def view(self):\n",
    "        return \"heir view\"\n",
    "    \n",
    "\n",
    "h = Heir()\n",
    "h.view()"
   ]
  },
  {
   "cell_type": "code",
   "execution_count": 35,
   "id": "5331506d-b90d-4b5f-9287-04cc49d03dd1",
   "metadata": {},
   "outputs": [
    {
     "data": {
      "text/plain": [
       "3.141592653589793"
      ]
     },
     "execution_count": 35,
     "metadata": {},
     "output_type": "execute_result"
    }
   ],
   "source": [
    "#import math as m\n",
    "from math import pi\n",
    "pi"
   ]
  },
  {
   "cell_type": "code",
   "execution_count": null,
   "id": "5351be8c-2225-4afd-8a3e-feba6389fbef",
   "metadata": {},
   "outputs": [],
   "source": [
    "b = [1, 2, 43, 456, 67, 45]\n",
    "\n",
    "b.reverse()\n",
    "b"
   ]
  }
 ],
 "metadata": {
  "kernelspec": {
   "display_name": "Python 3 (ipykernel)",
   "language": "python",
   "name": "python3"
  },
  "language_info": {
   "codemirror_mode": {
    "name": "ipython",
    "version": 3
   },
   "file_extension": ".py",
   "mimetype": "text/x-python",
   "name": "python",
   "nbconvert_exporter": "python",
   "pygments_lexer": "ipython3",
   "version": "3.10.1"
  }
 },
 "nbformat": 4,
 "nbformat_minor": 5
}
